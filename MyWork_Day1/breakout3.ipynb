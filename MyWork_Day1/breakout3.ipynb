{
 "cells": [
  {
   "cell_type": "code",
   "execution_count": 19,
   "metadata": {
    "collapsed": false
   },
   "outputs": [
    {
     "name": "stdout",
     "output_type": "stream",
     "text": [
      "Writing age.py\n"
     ]
    }
   ],
   "source": [
    "%%writefile age.py\n",
    "import datetime as dt\n",
    "birth = dt.datetime(1993, 2, 24)\n",
    "now = dt.datetime.now()\n",
    "diff_Birth_Now = now - birth\n",
    "print(diff_Birth_Now)"
   ]
  },
  {
   "cell_type": "code",
   "execution_count": 47,
   "metadata": {
    "collapsed": false
   },
   "outputs": [
    {
     "name": "stdout",
     "output_type": "stream",
     "text": [
      "8580 days, 14:48:36.789049\n",
      "You have been alive for 8580 days.\n",
      "You have been alive for 205934.81021918028 hours.\n"
     ]
    }
   ],
   "source": [
    "# print out how long you have been alive...\n",
    "type(diff_Birth_Now)\n",
    "print(diff_Birth_Now)\n",
    "print(\"You have been alive for\", diff_Birth_Now.days, \"days.\")\n",
    "print(\"You have been alive for\", diff_Birth_Now.total_seconds() / 3600, \"hours.\")"
   ]
  },
  {
   "cell_type": "code",
   "execution_count": 40,
   "metadata": {
    "collapsed": false
   },
   "outputs": [
    {
     "name": "stdout",
     "output_type": "stream",
     "text": [
      "The data in 1000 days (from now) will be 2019-05-19\n"
     ]
    }
   ],
   "source": [
    "# what will be the time in 1000 days?\n",
    "today1000 = dt.datetime.now() + dt.timedelta(1000)\n",
    "print(\"The data in 1000 days (from now) will be\", today1000.date())"
   ]
  },
  {
   "cell_type": "code",
   "execution_count": null,
   "metadata": {
    "collapsed": true
   },
   "outputs": [],
   "source": [
    "%%writefile age1.py\n",
    "\n",
    "import sys\n",
    "import datetime as dt\n",
    "\n",
    "def days_from_now(ndays):\n",
    "    #stuff\n",
    "\n",
    "def days_since(year, month, day):\n",
    "    #stuff\n",
    "    \n",
    "if __name__ == \"__main__\":\n",
    "    \"\"\"\n",
    "    Executed only if run from the command line.\n",
    "      to list the days since that date, call with\n",
    "      age1.py <year> <month> <day>\n",
    "      \n",
    "    or\n",
    "\n",
    "      to list the dat in some number of days, use\n",
    "      age1.py <days>\n",
    "    \"\"\"\n",
    "    argstot = len(sys.argv)\n",
    "    cmdargs = str(sys.argv)\n",
    "\n",
    "    print(\"The total numbers of argumentss passed to the script: %d \" % argstot)\n",
    "    print (\"Arguments list: %s \" % cmdargs)\n",
    "\n",
    "    if argstot == 2:\n",
    "        result = days_from_now(int(sys.argv[1]))\n",
    "    elif argstot == 4:\n",
    "        year = int(sys.argv[1])\n",
    "        month = int(sys.argv[2])\n",
    "        day = int(sys.argv[3])\n",
    "        result = days_since(year, month, day)\n",
    "    else:\n",
    "        print(\"This program takes only 1 or 3 arguments; you have supplied:\" argstot)\n",
    "        break"
   ]
  }
 ],
 "metadata": {
  "kernelspec": {
   "display_name": "Python 3",
   "language": "python",
   "name": "python3"
  },
  "language_info": {
   "codemirror_mode": {
    "name": "ipython",
    "version": 3
   },
   "file_extension": ".py",
   "mimetype": "text/x-python",
   "name": "python",
   "nbconvert_exporter": "python",
   "pygments_lexer": "ipython3",
   "version": "3.5.2"
  }
 },
 "nbformat": 4,
 "nbformat_minor": 0
}
