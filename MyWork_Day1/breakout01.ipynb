{
 "cells": [
  {
   "cell_type": "code",
   "execution_count": 37,
   "metadata": {
    "collapsed": false
   },
   "outputs": [
    {
     "name": "stdout",
     "output_type": "stream",
     "text": [
      "Here, you will construct a single sentence one word at a time. \n",
      "\n",
      "Please enter a word in the sentence (enter ., !, or ? to end): \n",
      "\n",
      "this\n",
      "Please enter a word in the sentence (enter ., !, or ? to end): \n",
      "\n",
      "is\n",
      "Please enter a word in the sentence (enter ., !, or ? to end): \n",
      "\n",
      "python\n",
      "Please enter a word in the sentence (enter ., !, or ? to end): \n",
      "\n",
      ".\n",
      "Here is your sentence: \n",
      "\n",
      "this is python .\n"
     ]
    }
   ],
   "source": [
    "sentence = []\n",
    "print(\"Here, you will construct a single sentence one word at a time. \\n\")\n",
    "\n",
    "while True:\n",
    "    print(\"Please enter a word in the sentence (enter ., !, or ? to end): \\n\"),\n",
    "    user_input = input()\n",
    "    sentence.append(user_input)\n",
    "    if user_input == \".\" or user_input == \"!\" or user_input == \"?\":\n",
    "        output = ' '.join(sentence)\n",
    "        print(\"Here is your sentence: \\n\")\n",
    "        print(output)\n",
    "        break"
   ]
  },
  {
   "cell_type": "code",
   "execution_count": null,
   "metadata": {
    "collapsed": true
   },
   "outputs": [],
   "source": []
  },
  {
   "cell_type": "code",
   "execution_count": null,
   "metadata": {
    "collapsed": true
   },
   "outputs": [],
   "source": []
  }
 ],
 "metadata": {
  "kernelspec": {
   "display_name": "Python 3",
   "language": "python",
   "name": "python3"
  },
  "language_info": {
   "codemirror_mode": {
    "name": "ipython",
    "version": 3
   },
   "file_extension": ".py",
   "mimetype": "text/x-python",
   "name": "python",
   "nbconvert_exporter": "python",
   "pygments_lexer": "ipython3",
   "version": "3.5.2"
  }
 },
 "nbformat": 4,
 "nbformat_minor": 0
}
