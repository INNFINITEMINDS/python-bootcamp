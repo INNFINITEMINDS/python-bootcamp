{
 "cells": [
  {
   "cell_type": "markdown",
   "metadata": {
    "slideshow": {
     "slide_type": "slide"
    }
   },
   "source": [
    "# Object-oriented programming I"
   ]
  },
  {
   "cell_type": "markdown",
   "metadata": {
    "slideshow": {
     "slide_type": "slide"
    }
   },
   "source": [
    "## What's an \"object\"?\n",
    "\n",
    "In Python, an *object* is a value with zero or more *attributes* and *methods*.\n",
    "\n",
    "For example: An floating point number is an object."
   ]
  },
  {
   "cell_type": "code",
   "execution_count": 1,
   "metadata": {
    "collapsed": true,
    "slideshow": {
     "slide_type": "slide"
    }
   },
   "outputs": [],
   "source": [
    "x = 10.0"
   ]
  },
  {
   "cell_type": "markdown",
   "metadata": {
    "slideshow": {
     "slide_type": "-"
    }
   },
   "source": [
    "Here are some attributes it has:"
   ]
  },
  {
   "cell_type": "code",
   "execution_count": 2,
   "metadata": {
    "collapsed": false
   },
   "outputs": [
    {
     "data": {
      "text/plain": [
       "10.0"
      ]
     },
     "execution_count": 2,
     "metadata": {},
     "output_type": "execute_result"
    }
   ],
   "source": [
    "x.real"
   ]
  },
  {
   "cell_type": "code",
   "execution_count": 3,
   "metadata": {
    "collapsed": false
   },
   "outputs": [
    {
     "data": {
      "text/plain": [
       "0.0"
      ]
     },
     "execution_count": 3,
     "metadata": {},
     "output_type": "execute_result"
    }
   ],
   "source": [
    "x.imag"
   ]
  },
  {
   "cell_type": "markdown",
   "metadata": {},
   "source": [
    "And here's a method:"
   ]
  },
  {
   "cell_type": "code",
   "execution_count": 4,
   "metadata": {
    "collapsed": false
   },
   "outputs": [
    {
     "data": {
      "text/plain": [
       "(10, 1)"
      ]
     },
     "execution_count": 4,
     "metadata": {},
     "output_type": "execute_result"
    }
   ],
   "source": [
    "x.as_integer_ratio()"
   ]
  },
  {
   "cell_type": "code",
   "execution_count": 5,
   "metadata": {
    "collapsed": false,
    "slideshow": {
     "slide_type": "slide"
    }
   },
   "outputs": [
    {
     "data": {
      "text/plain": [
       "(6004799503160661, 18014398509481984)"
      ]
     },
     "execution_count": 5,
     "metadata": {},
     "output_type": "execute_result"
    }
   ],
   "source": [
    "(1 / 3).as_integer_ratio()"
   ]
  },
  {
   "cell_type": "markdown",
   "metadata": {
    "slideshow": {
     "slide_type": "slide"
    }
   },
   "source": [
    "A list is an object. We learned about some of its methods yesterday:"
   ]
  },
  {
   "cell_type": "code",
   "execution_count": 6,
   "metadata": {
    "collapsed": true
   },
   "outputs": [],
   "source": [
    "l = [1, 2, 3]"
   ]
  },
  {
   "cell_type": "code",
   "execution_count": 7,
   "metadata": {
    "collapsed": true
   },
   "outputs": [],
   "source": [
    "l.append(4)"
   ]
  },
  {
   "cell_type": "code",
   "execution_count": 8,
   "metadata": {
    "collapsed": false
   },
   "outputs": [
    {
     "data": {
      "text/plain": [
       "[1, 2, 3, 4]"
      ]
     },
     "execution_count": 8,
     "metadata": {},
     "output_type": "execute_result"
    }
   ],
   "source": [
    "l"
   ]
  },
  {
   "cell_type": "code",
   "execution_count": 9,
   "metadata": {
    "collapsed": false
   },
   "outputs": [
    {
     "data": {
      "text/plain": [
       "1"
      ]
     },
     "execution_count": 9,
     "metadata": {},
     "output_type": "execute_result"
    }
   ],
   "source": [
    "l.pop(0)"
   ]
  },
  {
   "cell_type": "code",
   "execution_count": 10,
   "metadata": {
    "collapsed": false
   },
   "outputs": [
    {
     "data": {
      "text/plain": [
       "[2, 3, 4]"
      ]
     },
     "execution_count": 10,
     "metadata": {},
     "output_type": "execute_result"
    }
   ],
   "source": [
    "lz"
   ]
  },
  {
   "cell_type": "markdown",
   "metadata": {},
   "source": [
    "Of course, all of these different objects act pretty differently from each other.\n",
    "\n",
    "To make it easier to keep track of all the different ways that objects can act, we divide them into *types*, also known as *classes*.\n",
    "\n",
    "Terminology: Every *object* is an *instance* of a *class*."
   ]
  },
  {
   "cell_type": "markdown",
   "metadata": {},
   "source": [
    "## What's an object? -> In Python: *literally everything*"
   ]
  },
  {
   "cell_type": "markdown",
   "metadata": {},
   "source": [
    "## ...what's \"object-oriented programming\"? \n",
    " Making your own types...\n",
    " \n",
    "## Advantages of OOP\n",
    "\n",
    "\n",
    "(Might be hard to imagine these benefits right now, but trust us...)\n",
    "\n",
    "- Encapsulation hides implementation details so you can forget more\n",
    "- Code is organized intuitively\n",
    "- Reuse is straightforward\n",
    "- Modularity forces good programming habits\n"
   ]
  },
  {
   "cell_type": "markdown",
   "metadata": {},
   "source": [
    "## Smarter than the average var(iable)\n",
    "\n",
    "<img style=\"float: left\" src=\"old/files/oski.png\" width=\"30%\">\n",
    "\n",
    "<i>Characteristics</i> --> Name, Color, Height, Weight\n",
    "<p class=\"gap05\"<p>\n",
    "<i>Does Things</i> ---> Eat, Sleep, Growl, Cheer\n",
    "<p class=\"gap05\"<p>\n",
    "<i>Interaction</i> ---> Parents, siblings, friends<p class=\"gap05\"<p>"
   ]
  },
  {
   "cell_type": "markdown",
   "metadata": {
    "collapsed": false
   },
   "source": [
    "# Simple Bear class, attributes and methods\n",
    "\n",
    "The \"blueprint\" class for bear:\n",
    "<p class=\"object\">\n",
    "<b><u>Bear:</u></b><br>\n",
    "- Attributes: name, color, height, weight<br>\n",
    "- Methods: eat(), sleep(), growl()\n",
    "</p>\n",
    "\n",
    "Two <i>instances</i> of bears:\n",
    "\n",
    "<p class=\"instance\">\n",
    "<b>Yogi:</b><br>\n",
    "- Attributes: \"Yogi\", brown, 1.8m, 80kg<br>\n",
    "- Methods: eat(), sleep(), growl()\n",
    "</p>\n",
    "\n",
    "<p class=\"instance\">\n",
    "<b>Winnie:</b><br>\n",
    "- Attributes: \"Winnie\", yellow, 1.2m, 100kg<br>\n",
    "- Methods: eat(), sleep(), growl()\n",
    "</p>"
   ]
  },
  {
   "cell_type": "code",
   "execution_count": 11,
   "metadata": {
    "collapsed": false
   },
   "outputs": [
    {
     "name": "stdout",
     "output_type": "stream",
     "text": [
      "the bear class is now defined.\n"
     ]
    }
   ],
   "source": [
    "class Bear:\n",
    "    print(\"the bear class is now defined.\")"
   ]
  },
  {
   "cell_type": "code",
   "execution_count": 12,
   "metadata": {
    "collapsed": false
   },
   "outputs": [
    {
     "data": {
      "text/plain": [
       "__main__.Bear"
      ]
     },
     "execution_count": 12,
     "metadata": {},
     "output_type": "execute_result"
    }
   ],
   "source": [
    "a = Bear # this is not generally useful: we don't often reference the class itself\n",
    "a"
   ]
  },
  {
   "cell_type": "code",
   "execution_count": 13,
   "metadata": {
    "collapsed": false
   },
   "outputs": [
    {
     "data": {
      "text/plain": [
       "<__main__.Bear at 0x10a79f780>"
      ]
     },
     "execution_count": 13,
     "metadata": {},
     "output_type": "execute_result"
    }
   ],
   "source": [
    "a = Bear() # that's more like it! This creates a new *instance* of the class\n",
    "a"
   ]
  },
  {
   "cell_type": "code",
   "execution_count": 14,
   "metadata": {
    "collapsed": false
   },
   "outputs": [
    {
     "data": {
      "text/plain": [
       "True"
      ]
     },
     "execution_count": 14,
     "metadata": {},
     "output_type": "execute_result"
    }
   ],
   "source": [
    "isinstance(a, Bear)"
   ]
  },
  {
   "cell_type": "markdown",
   "metadata": {},
   "source": [
    "### Attributes"
   ]
  },
  {
   "cell_type": "code",
   "execution_count": 15,
   "metadata": {
    "collapsed": false
   },
   "outputs": [
    {
     "name": "stdout",
     "output_type": "stream",
     "text": [
      "Oski\n"
     ]
    }
   ],
   "source": [
    "a.name = \"Oski\" # In Python, we can add attributes to the instance on-the-fly\n",
    "a.color = \"Brown\"\n",
    "print(a.name) # Does he know who he is?"
   ]
  },
  {
   "cell_type": "markdown",
   "metadata": {},
   "source": [
    "### Methods"
   ]
  },
  {
   "cell_type": "code",
   "execution_count": 16,
   "metadata": {
    "collapsed": false
   },
   "outputs": [
    {
     "name": "stdout",
     "output_type": "stream",
     "text": [
      "The bear class is now defined.\n"
     ]
    }
   ],
   "source": [
    "class Bear:\n",
    "    print(\"The bear class is now defined.\")\n",
    "    def say_hello(self): #don't worry about the 'self' just yet...\n",
    "        print(\"Hello, world! I am a bear.\")"
   ]
  },
  {
   "cell_type": "code",
   "execution_count": 17,
   "metadata": {
    "collapsed": false
   },
   "outputs": [
    {
     "name": "stdout",
     "output_type": "stream",
     "text": [
      "Hello, world! I am a bear.\n"
     ]
    }
   ],
   "source": [
    "f = Bear()\n",
    "f.say_hello()"
   ]
  },
  {
   "cell_type": "markdown",
   "metadata": {},
   "source": [
    "When you write `x.foo`:\n",
    "\n",
    "* First Python checks if `x` has a `foo` attribute\n",
    "* If not, then it checks to see if `type(x)` has a `foo` attribute\n",
    "  * And possibly applies some magic, like filling in the `self` argument"
   ]
  },
  {
   "cell_type": "code",
   "execution_count": 18,
   "metadata": {
    "collapsed": false
   },
   "outputs": [
    {
     "name": "stdout",
     "output_type": "stream",
     "text": [
      "The bear class is now defined.\n"
     ]
    }
   ],
   "source": [
    "class Bear:\n",
    "    print(\"The bear class is now defined.\")\n",
    "    def say_hello(self): #don't worry about the 'self' just yet...\n",
    "        print(\"Hello, world! I am a bear.\")"
   ]
  },
  {
   "cell_type": "code",
   "execution_count": 19,
   "metadata": {
    "collapsed": true
   },
   "outputs": [],
   "source": [
    "b = Bear()"
   ]
  },
  {
   "cell_type": "code",
   "execution_count": 20,
   "metadata": {
    "collapsed": false
   },
   "outputs": [
    {
     "name": "stdout",
     "output_type": "stream",
     "text": [
      "<__main__.Bear object at 0x10a79f668>\n"
     ]
    }
   ],
   "source": [
    "print(b)"
   ]
  },
  {
   "cell_type": "code",
   "execution_count": 21,
   "metadata": {
    "collapsed": false
   },
   "outputs": [
    {
     "data": {
      "text/plain": [
       "<function __main__.Bear.say_hello>"
      ]
     },
     "execution_count": 21,
     "metadata": {},
     "output_type": "execute_result"
    }
   ],
   "source": [
    "# If we access 'say_hello' directly from the Class, then we get the regular function\n",
    "Bear.say_hello"
   ]
  },
  {
   "cell_type": "code",
   "execution_count": 22,
   "metadata": {
    "collapsed": false
   },
   "outputs": [
    {
     "ename": "TypeError",
     "evalue": "say_hello() missing 1 required positional argument: 'self'",
     "output_type": "error",
     "traceback": [
      "\u001b[0;31m---------------------------------------------------------------------------\u001b[0m",
      "\u001b[0;31mTypeError\u001b[0m                                 Traceback (most recent call last)",
      "\u001b[0;32m<ipython-input-22-4d6a40a0ea86>\u001b[0m in \u001b[0;36m<module>\u001b[0;34m()\u001b[0m\n\u001b[0;32m----> 1\u001b[0;31m \u001b[0mBear\u001b[0m\u001b[0;34m.\u001b[0m\u001b[0msay_hello\u001b[0m\u001b[0;34m(\u001b[0m\u001b[0;34m)\u001b[0m\u001b[0;34m\u001b[0m\u001b[0m\n\u001b[0m",
      "\u001b[0;31mTypeError\u001b[0m: say_hello() missing 1 required positional argument: 'self'"
     ]
    }
   ],
   "source": [
    "Bear.say_hello()"
   ]
  },
  {
   "cell_type": "code",
   "execution_count": 23,
   "metadata": {
    "collapsed": false
   },
   "outputs": [
    {
     "name": "stdout",
     "output_type": "stream",
     "text": [
      "Hello, world! I am a bear.\n"
     ]
    }
   ],
   "source": [
    "Bear.say_hello(b)"
   ]
  },
  {
   "cell_type": "code",
   "execution_count": 24,
   "metadata": {
    "collapsed": false
   },
   "outputs": [
    {
     "name": "stdout",
     "output_type": "stream",
     "text": [
      "Hello, world! I am a bear.\n"
     ]
    }
   ],
   "source": [
    "# If we access 'say_hello' *via an instance object*,\n",
    "# then 'self' gets filled in automatically.\n",
    "b.say_hello()"
   ]
  },
  {
   "cell_type": "markdown",
   "metadata": {},
   "source": [
    "# The `__init__()` method \n",
    "\n",
    "`__init__()` is a special method automatically called when a new instance is created.\n",
    "It can specify necessary initialization parameters. \n",
    "\n",
    "\"self\" is a special identifier used inside a method to refer to the particular instance of the class. self is not explicitly passed in when accessed through an object instance; Python takes care of that bookkeeping.\n",
    "\n",
    "When you 'call' a class to create a new instance, then:\n",
    "* first the new object is created as an empty, blank slate\n",
    "* then, Python calls `new_obj.__init__(...)` and passes in any arguments\n",
    "  * which gets expanded to: `Class.__init__(new_obj, ...)`\n",
    "\n",
    "`__init__` is just a regular method, and can do anything a method can do -- but most commonly what it does is fill in object attributes:\n"
   ]
  },
  {
   "cell_type": "code",
   "execution_count": 25,
   "metadata": {
    "collapsed": false
   },
   "outputs": [
    {
     "name": "stdout",
     "output_type": "stream",
     "text": [
      "Creating Bear class\n"
     ]
    }
   ],
   "source": [
    "class Bear:\n",
    "    print(\"Creating Bear class\")\n",
    "    \n",
    "    def __init__(self, name):\n",
    "        self.name = name\n",
    "        print(\"A bear is born.\")\n",
    "        \n",
    "    def say_hello(self):\n",
    "        print(\"Hello, world! I am a bear.\")\n",
    "        print(\"My name is\", self.name)"
   ]
  },
  {
   "cell_type": "code",
   "execution_count": 26,
   "metadata": {
    "collapsed": false
   },
   "outputs": [
    {
     "ename": "TypeError",
     "evalue": "__init__() missing 1 required positional argument: 'name'",
     "output_type": "error",
     "traceback": [
      "\u001b[0;31m---------------------------------------------------------------------------\u001b[0m",
      "\u001b[0;31mTypeError\u001b[0m                                 Traceback (most recent call last)",
      "\u001b[0;32m<ipython-input-26-761efc50f76c>\u001b[0m in \u001b[0;36m<module>\u001b[0;34m()\u001b[0m\n\u001b[0;32m----> 1\u001b[0;31m \u001b[0ma\u001b[0m \u001b[0;34m=\u001b[0m \u001b[0mBear\u001b[0m\u001b[0;34m(\u001b[0m\u001b[0;34m)\u001b[0m\u001b[0;34m\u001b[0m\u001b[0m\n\u001b[0m",
      "\u001b[0;31mTypeError\u001b[0m: __init__() missing 1 required positional argument: 'name'"
     ]
    }
   ],
   "source": [
    "a = Bear()"
   ]
  },
  {
   "cell_type": "code",
   "execution_count": 27,
   "metadata": {
    "collapsed": false
   },
   "outputs": [
    {
     "name": "stdout",
     "output_type": "stream",
     "text": [
      "A bear is born.\n"
     ]
    }
   ],
   "source": [
    "a = Bear(\"Judge\")"
   ]
  },
  {
   "cell_type": "code",
   "execution_count": 28,
   "metadata": {
    "collapsed": false
   },
   "outputs": [
    {
     "name": "stdout",
     "output_type": "stream",
     "text": [
      "Hello, world! I am a bear.\n",
      "My name is Judge\n"
     ]
    }
   ],
   "source": [
    "a.say_hello()"
   ]
  },
  {
   "cell_type": "code",
   "execution_count": 29,
   "metadata": {
    "collapsed": false
   },
   "outputs": [
    {
     "ename": "SyntaxError",
     "evalue": "invalid syntax (<ipython-input-29-a0d310e2b5e6>, line 1)",
     "output_type": "error",
     "traceback": [
      "\u001b[0;36m  File \u001b[0;32m\"<ipython-input-29-a0d310e2b5e6>\"\u001b[0;36m, line \u001b[0;32m1\u001b[0m\n\u001b[0;31m    a.\u001b[0m\n\u001b[0m      ^\u001b[0m\n\u001b[0;31mSyntaxError\u001b[0m\u001b[0;31m:\u001b[0m invalid syntax\n"
     ]
    }
   ],
   "source": [
    "a."
   ]
  },
  {
   "cell_type": "markdown",
   "metadata": {},
   "source": [
    "## Global class variables, versus object instance attributes"
   ]
  },
  {
   "cell_type": "code",
   "execution_count": null,
   "metadata": {
    "collapsed": false
   },
   "outputs": [],
   "source": [
    "class Bear:\n",
    "    population = 0\n",
    "    def __init__(self, name):\n",
    "        self.name = name\n",
    "        Bear.population += 1 # Increment the 'global' census counter, a class attribute\n",
    "        self.number = Bear.population # Copy the current number to our own object attribute\n",
    "    def say_hello(self):\n",
    "        print('Hello, I am bear #%d/%d. My name is %s, prepare to...'\n",
    "              % (self.number, Bear.population, self.name))\n",
    "\n",
    "a = Bear(\"Yogi\")\n",
    "a.say_hello()"
   ]
  },
  {
   "cell_type": "code",
   "execution_count": null,
   "metadata": {
    "collapsed": false
   },
   "outputs": [],
   "source": [
    "b = Bear(\"Winnie\")\n",
    "b.say_hello()\n",
    "a.say_hello()"
   ]
  },
  {
   "cell_type": "markdown",
   "metadata": {
    "collapsed": false
   },
   "source": [
    "Here you can already see interesting and useful dynamic behavior: Yogi's `say_hello()` method 'knows' about other bear(s)."
   ]
  },
  {
   "cell_type": "code",
   "execution_count": null,
   "metadata": {
    "collapsed": false
   },
   "outputs": [],
   "source": [
    "c = Bear(\"Fozzie\")\n",
    "Bear.say_hello(c) # calling the class 'directly' with an explicit reference to an object"
   ]
  },
  {
   "cell_type": "markdown",
   "metadata": {},
   "source": [
    "# Zookeeper Problems I\n",
    "\n",
    "Suppose you are a zookeeper. You have three\n",
    "bears in your care (Oski, Winnie, and Yogi), and\n",
    "you need to take them to a shiny new\n",
    "habitat in a different part of the zoo. However,\n",
    "your bear truck can only support 300 lbs. Can\n",
    "you transfer the bears in just one trip?"
   ]
  },
  {
   "cell_type": "code",
   "execution_count": null,
   "metadata": {
    "collapsed": true
   },
   "outputs": [],
   "source": [
    "class Bear:\n",
    "    def __init__(self, name, weight):\n",
    "        self.name = name\n",
    "        self.weight = weight\n",
    "        \n",
    "a = Bear(\"Oski\", 80)\n",
    "b = Bear(\"Winnie\", 100)\n",
    "c = Bear(\"Yogi\", 115)"
   ]
  },
  {
   "cell_type": "code",
   "execution_count": null,
   "metadata": {
    "collapsed": true
   },
   "outputs": [],
   "source": [
    "# Class instances in Python can be treated like any other data type:\n",
    "# they can be assigned to other variables, put in lists, iterated over, etc.\n",
    "my_bears = [a, b, c]"
   ]
  },
  {
   "cell_type": "code",
   "execution_count": null,
   "metadata": {
    "collapsed": false
   },
   "outputs": [],
   "source": [
    "total_weight = 0\n",
    "for z in my_bears:\n",
    "    total_weight += z.weight\n",
    "print (total_weight < 300)"
   ]
  },
  {
   "cell_type": "code",
   "execution_count": null,
   "metadata": {
    "collapsed": false
   },
   "outputs": [],
   "source": [
    "total_weight"
   ]
  },
  {
   "cell_type": "markdown",
   "metadata": {},
   "source": [
    "# Zookeeper Problems II: The animal chorus\n",
    "\n",
    "How can we use object-oriented programming to help us make 'generic' procedures? "
   ]
  },
  {
   "cell_type": "code",
   "execution_count": null,
   "metadata": {
    "collapsed": true
   },
   "outputs": [],
   "source": [
    "class Bear:\n",
    "    def vocalize(self):\n",
    "        print(\"growl\")\n",
    "        \n",
    "class Cat:\n",
    "    def vocalize(self):\n",
    "        print(\"meow\")\n",
    "\n",
    "class Duck:\n",
    "    def vocalize(self):\n",
    "        print(\"quack\")\n",
    "\n",
    "oski = Bear()\n",
    "bill = Cat()\n",
    "daffy = Duck()"
   ]
  },
  {
   "cell_type": "code",
   "execution_count": null,
   "metadata": {
    "collapsed": true
   },
   "outputs": [],
   "source": [
    "def harmonize(chorus):\n",
    "    for member in chorus:\n",
    "        member.vocalize()"
   ]
  },
  {
   "cell_type": "markdown",
   "metadata": {},
   "source": [
    "The `harmonize()` function doesn't care *at all* what each type of singer is. Each singer simply must have a `vocalize()` method."
   ]
  },
  {
   "cell_type": "code",
   "execution_count": null,
   "metadata": {
    "collapsed": false
   },
   "outputs": [],
   "source": [
    "harmonize([oski, bill, daffy])"
   ]
  },
  {
   "cell_type": "markdown",
   "metadata": {},
   "source": [
    "-----\n",
    "\n",
    "# Breakout problem\n",
    "\n",
    "<img src=http://www.analyzemath.com/Geometry_calculators/irregular_polygon_1.gif>\n",
    "\n",
    "Calculate the perimeter (and, if you are up for it, the area) of a polygon provided the vector coordinates (in order) of its N vertices. Hint: Sum over distance between adjacent points, where d =\n",
    "math.sqrt( $ \\delta x^2 + \\delta y^2 $) .\n",
    "\n",
    "```python\n",
    "a = Polygon([[0,0], [0,1], [1,1], [1,0]])\n",
    "a.perimeter()\n",
    "4.0\n",
    "a.area()\n",
    "1.0\n",
    "b = Polygon([[0, -2], [1, 1], [3, 3], [5, 1], [4, 0], [4, -3]])\n",
    "b.perimeter()\n",
    "17.356451097651515\n",
    "```"
   ]
  },
  {
   "cell_type": "code",
   "execution_count": null,
   "metadata": {
    "collapsed": true
   },
   "outputs": [],
   "source": []
  }
 ],
 "metadata": {
  "kernelspec": {
   "display_name": "Python 3",
   "language": "python",
   "name": "python3"
  },
  "language_info": {
   "codemirror_mode": {
    "name": "ipython",
    "version": 3
   },
   "file_extension": ".py",
   "mimetype": "text/x-python",
   "name": "python",
   "nbconvert_exporter": "python",
   "pygments_lexer": "ipython3",
   "version": "3.5.2"
  }
 },
 "nbformat": 4,
 "nbformat_minor": 0
}
